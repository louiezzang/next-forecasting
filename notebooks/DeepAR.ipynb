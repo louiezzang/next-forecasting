{
  "cells": [
    {
      "cell_type": "markdown",
      "metadata": {
        "id": "view-in-github",
        "colab_type": "text"
      },
      "source": [
        "<a href=\"https://colab.research.google.com/github/louiezzang/nextmining-forecasting/blob/main/notebooks/DeepAR.ipynb\" target=\"_parent\"><img src=\"https://colab.research.google.com/assets/colab-badge.svg\" alt=\"Open In Colab\"/></a>"
      ]
    },
    {
      "cell_type": "code",
      "execution_count": 1,
      "metadata": {
        "colab": {
          "base_uri": "https://localhost:8080/"
        },
        "id": "a266gn7e6oJa",
        "outputId": "5cb9399d-08da-498f-fc9d-630ac220c77f"
      },
      "outputs": [
        {
          "output_type": "stream",
          "name": "stdout",
          "text": [
            "Collecting git+https://github.com/louiezzang/nextmining-forecasting.git\n",
            "  Cloning https://github.com/louiezzang/nextmining-forecasting.git to /tmp/pip-req-build-_x8mvyqy\n",
            "  Running command git clone --filter=blob:none --quiet https://github.com/louiezzang/nextmining-forecasting.git /tmp/pip-req-build-_x8mvyqy\n",
            "  Resolved https://github.com/louiezzang/nextmining-forecasting.git to commit 1c20e0578988f68901cc7741dd7f0af89274af70\n",
            "  Preparing metadata (setup.py) ... \u001b[?25l\u001b[?25hdone\n"
          ]
        }
      ],
      "source": [
        "!pip install -U git+https://github.com/louiezzang/nextmining-forecasting.git"
      ]
    },
    {
      "cell_type": "code",
      "execution_count": 2,
      "metadata": {
        "id": "VcZGt2aNQlVK"
      },
      "outputs": [],
      "source": [
        "import time\n",
        "import gc\n",
        "import glob\n",
        "import os\n",
        "import numpy as np\n",
        "import pandas as pd\n",
        "from datetime import datetime\n",
        "from tqdm import tqdm\n",
        "\n",
        "from sklearn.preprocessing import StandardScaler\n",
        "from sklearn.preprocessing import LabelEncoder\n",
        "\n",
        "from torch.utils.data import DataLoader, Dataset\n",
        "from torch.utils.data.sampler import RandomSampler\n",
        "import torch.optim as optim\n",
        "from torch import nn\n",
        "import torchvision\n",
        "import torch\n",
        "\n",
        "import matplotlib.pyplot as plt\n",
        "import matplotlib.dates as mdates\n",
        "import seaborn as sns\n",
        "\n",
        "from forecasting.data import TimeSeriesDataset\n",
        "from forecasting.models import DeepAR\n",
        "import forecasting.models.deepar.net as net"
      ]
    },
    {
      "cell_type": "code",
      "execution_count": 3,
      "metadata": {
        "id": "E6jGZwodVLXT"
      },
      "outputs": [],
      "source": [
        "def fit_preprocessing(train, real_columns, categorical_columns):\n",
        "    real_scalers = StandardScaler().fit(train[real_columns].values)\n",
        "\n",
        "    categorical_scalers = {}\n",
        "    num_classes = []\n",
        "    for col in categorical_columns:\n",
        "        srs = train[col].apply(str)\n",
        "        categorical_scalers[col] = LabelEncoder().fit(srs.values)\n",
        "        num_classes.append(srs.nunique())\n",
        "\n",
        "    return real_scalers, categorical_scalers\n",
        "\n",
        "\n",
        "def transform_inputs(df, real_scalers, categorical_scalers, real_columns, categorical_columns):\n",
        "    out = df.copy()\n",
        "    out[real_columns] = real_scalers.transform(df[real_columns].values)\n",
        "\n",
        "    for col in categorical_columns:\n",
        "        string_df = df[col].apply(str)\n",
        "        out[col] = categorical_scalers[col].transform(string_df)\n",
        "\n",
        "    return out"
      ]
    },
    {
      "cell_type": "code",
      "execution_count": 4,
      "metadata": {
        "id": "W8GhNGjGVOEO"
      },
      "outputs": [],
      "source": [
        "class WebTrafficGenerator:\n",
        "    def __init__(self, start_date=\"2021-01-01\", end_date=\"2024-12-31\", trend_base=0.5,\n",
        "                 weekly_seasonality=None, yearly_seasonality=None, noise_multiplier=10):\n",
        "        self.dates = dates = pd.date_range(start=start_date, end=end_date, freq=\"D\")\n",
        "        self.trend_base = trend_base\n",
        "        self.weekly_seasonality = weekly_seasonality\n",
        "        self.yearly_seasonality = yearly_seasonality\n",
        "        self.noise_multiplier = noise_multiplier\n",
        "        self.web_traffic = []\n",
        "\n",
        "    def generate_data(self):\n",
        "\n",
        "        day = 24 * 60 * 60\n",
        "        week = day * 7\n",
        "        year = 365.2425 * day\n",
        "\n",
        "        if self.yearly_seasonality:\n",
        "            yearly = ((1 + np.sin(self.dates.view(\"int64\") // 1e9 * \\\n",
        "                                  (self.yearly_seasonality * np.pi / year))) * 100).astype(int)\n",
        "        else:\n",
        "            yearly = 0\n",
        "\n",
        "        if self.weekly_seasonality:\n",
        "            weekly = ((1 + np.sin(self.dates.view(\"int64\") // 1e9 * \\\n",
        "                                  (self.weekly_seasonality * np.pi / week))) * 10).astype(int)\n",
        "        else:\n",
        "            weekly = 0\n",
        "\n",
        "        trend = np.array(range(len(self.dates)))*self.trend_base\n",
        "        noise = ((np.random.random(len(self.dates))-0.5)*self.noise_multiplier).astype(int)\n",
        "\n",
        "        return trend+yearly+weekly+noise\n"
      ]
    },
    {
      "cell_type": "code",
      "execution_count": 5,
      "metadata": {
        "colab": {
          "base_uri": "https://localhost:8080/",
          "height": 669
        },
        "id": "pt_QKdXNVRDO",
        "outputId": "36cd7d7a-5091-4c46-e45c-4c524538a179"
      },
      "outputs": [
        {
          "output_type": "execute_result",
          "data": {
            "text/plain": [
              "(array([18628., 18809., 18993., 19174., 19358., 19539., 19723., 19905.,\n",
              "        20089.]),\n",
              " [Text(18628.0, 0, '2021-01'),\n",
              "  Text(18809.0, 0, '2021-07'),\n",
              "  Text(18993.0, 0, '2022-01'),\n",
              "  Text(19174.0, 0, '2022-07'),\n",
              "  Text(19358.0, 0, '2023-01'),\n",
              "  Text(19539.0, 0, '2023-07'),\n",
              "  Text(19723.0, 0, '2024-01'),\n",
              "  Text(19905.0, 0, '2024-07'),\n",
              "  Text(20089.0, 0, '2025-01')])"
            ]
          },
          "metadata": {},
          "execution_count": 5
        },
        {
          "output_type": "display_data",
          "data": {
            "text/plain": [
              "<Figure size 640x480 with 1 Axes>"
            ],
            "image/png": "[encoded data removed]"
          },
          "metadata": {}
        }
      ],
      "source": [
        "traffic_generator = WebTrafficGenerator(start_date=\"2021-01-01\",\n",
        "                                        end_date=\"2024-12-31\",\n",
        "                                        trend_base=0.5,\n",
        "                                        weekly_seasonality=0.7,\n",
        "                                        yearly_seasonality=2.3,\n",
        "                                        noise_multiplier=80)\n",
        "traffic = traffic_generator.generate_data()\n",
        "\n",
        "plt.plot(traffic_generator.dates, traffic)\n",
        "plt.xticks(rotation=90)"
      ]
    },
    {
      "cell_type": "code",
      "execution_count": 6,
      "metadata": {
        "id": "c9tRUGTJVU9K"
      },
      "outputs": [],
      "source": [
        "entities = [\"A\", \"B\", \"C\", \"D\", \"E\", \"F\", \"G\", \"H\", \"I\", \"J\", \"K\", \"L\", \"M\", \"N\", \"O\", \"P\"]\n",
        "groups = {\"High\": [\"A\", \"B\", \"C\", \"D\", \"E\"], \"Medium\": [\"F\", \"G\", \"H\", \"I\", \"J\", \"K\"], \"Low\": [\"L\", \"M\", \"N\", \"O\", \"P\"]}"
      ]
    },
    {
      "cell_type": "code",
      "execution_count": 7,
      "metadata": {
        "id": "fNKlMZwKVXgO"
      },
      "outputs": [],
      "source": [
        "raw = pd.DataFrame(columns=[\"date\", \"traffic\", \"Entity\", \"Class\", \"DayOfWeek\", \"DayOfMonth\", \"WeekOfYear\", \"Month\", \"Year\"])\n",
        "\n",
        "for e in entities:\n",
        "    trend_base = np.round(np.random.random(), 2)\n",
        "\n",
        "    if e in groups[\"High\"]:\n",
        "        trend_base *= 1.5\n",
        "        group = \"High\"\n",
        "    elif e in groups[\"Low\"]:\n",
        "        trend_base *= 0.7\n",
        "        group = \"Low\"\n",
        "    else:\n",
        "        group = \"Medium\"\n",
        "\n",
        "    traffic_generator = WebTrafficGenerator(start_date=\"2020-01-01\",\n",
        "                                            end_date=\"2024-12-31\",\n",
        "                                            trend_base=trend_base,\n",
        "                                            weekly_seasonality=0.7 +np.round(np.random.uniform(0, 2.0), 2),\n",
        "                                            yearly_seasonality=6.0 +np.round(np.random.uniform(0, 2.0), 2),\n",
        "                                            noise_multiplier=80)\n",
        "\n",
        "    traffic = traffic_generator.generate_data()\n",
        "    tmp = pd.DataFrame(data={\"date\": traffic_generator.dates, \"traffic\":traffic})\n",
        "    tmp[\"Entity\"] = [e]*tmp.shape[0]\n",
        "    tmp[\"Class\"] = [group]*tmp.shape[0]\n",
        "    tmp[\"DayOfWeek\"] = tmp.date.dt.dayofweek\n",
        "    tmp[\"DayOfMonth\"] = tmp.date.dt.day\n",
        "    tmp[\"WeekOfYear\"] = tmp.date.dt.isocalendar().week\n",
        "    tmp[\"Month\"] = tmp.date.dt.month\n",
        "    tmp[\"Year\"] = tmp.date.dt.year\n",
        "    tmp[\"DaysFromStart\"] = np.arange(tmp.shape[0])\n",
        "    tmp[\"Delta\"] = tmp[\"traffic\"].diff().fillna(0)\n",
        "\n",
        "    raw = pd.concat([raw, tmp])\n",
        "\n",
        "raw.reset_index(inplace=True)"
      ]
    },
    {
      "cell_type": "code",
      "execution_count": 8,
      "metadata": {
        "colab": {
          "base_uri": "https://localhost:8080/",
          "height": 594
        },
        "id": "M8OZGeO3VaCF",
        "outputId": "c940ce12-b874-4cd8-dd7c-bc98b5b0b6e5"
      },
      "outputs": [
        {
          "output_type": "execute_result",
          "data": {
            "text/plain": [
              "(array([17897., 18262., 18628., 18993., 19358., 19723., 20089.]),\n",
              " [Text(17897.0, 0, '2019'),\n",
              "  Text(18262.0, 0, '2020'),\n",
              "  Text(18628.0, 0, '2021'),\n",
              "  Text(18993.0, 0, '2022'),\n",
              "  Text(19358.0, 0, '2023'),\n",
              "  Text(19723.0, 0, '2024'),\n",
              "  Text(20089.0, 0, '2025')])"
            ]
          },
          "metadata": {},
          "execution_count": 8
        },
        {
          "output_type": "display_data",
          "data": {
            "text/plain": [
              "<Figure size 640x480 with 1 Axes>"
            ],
            "image/png": "[encoded data removed]"
          },
          "metadata": {}
        }
      ],
      "source": [
        "total = raw.groupby(\"date\")[\"traffic\"].sum()\n",
        "plt.plot(total.index, total)\n",
        "plt.xticks(rotation=90)"
      ]
    },
    {
      "cell_type": "code",
      "execution_count": 9,
      "metadata": {
        "id": "QxbZbCVkVcuN"
      },
      "outputs": [],
      "source": [
        "train = raw[raw[\"date\"] < \"2023-01-01\"]\n",
        "valid = raw.loc[(raw[\"date\"] >= \"2023-01-01\") & (raw[\"date\"] < \"2024-01-01\")]\n",
        "test = raw.loc[(raw[\"date\"] > \"2024-01-01\")]"
      ]
    },
    {
      "cell_type": "code",
      "execution_count": 10,
      "metadata": {
        "id": "PCatCpCbVfIy"
      },
      "outputs": [],
      "source": [
        "real_columns = [\"traffic\", \"Delta\", \"DaysFromStart\"]\n",
        "categorical_columns = [\"Entity\", \"DayOfWeek\", \"DayOfMonth\", \"WeekOfYear\", \"Month\", \"Class\"]\n",
        "\n",
        "real_scalers, categorical_scalers = fit_preprocessing(train, real_columns, categorical_columns)\n",
        "\n",
        "train = transform_inputs(train, real_scalers, categorical_scalers, real_columns, categorical_columns)\n",
        "# valid = transform_inputs(valid, real_scalers, categorical_scalers, real_columns, categorical_columns)\n",
        "test = transform_inputs(test, real_scalers, categorical_scalers, real_columns, categorical_columns)"
      ]
    },
    {
      "cell_type": "code",
      "execution_count": 11,
      "metadata": {
        "id": "_-p-veJxVhkR"
      },
      "outputs": [],
      "source": [
        "# Global variables\n",
        "DEVICE = torch.device(\"cuda:0\" if torch.cuda.is_available() else \"cpu\")\n",
        "params = {\n",
        "    \"learning_rate\": 1e-3,\n",
        "    \"batch_size\": 64,\n",
        "    \"lstm_layers\": 3,\n",
        "    \"num_epochs\": 20,\n",
        "    \"train_window\": 192,\n",
        "    \"test_window\": 192,\n",
        "    \"predict_start\": 168,\n",
        "    \"test_predict_start\": 168,\n",
        "    \"predict_steps\": 24,\n",
        "    \"num_class\": 370,\n",
        "    \"cov_dim\": 9,\n",
        "    \"lstm_hidden_dim\": 40,\n",
        "    \"embedding_dim\": 20,\n",
        "    \"sample_times\": 200,\n",
        "    \"lstm_dropout\": 0.1,\n",
        "    \"predict_batch\": 256,\n",
        "    \"device\": DEVICE,\n",
        "}\n",
        "ENCODER_STEPS = params[\"train_window\"]\n",
        "DECODER_STEPS = ENCODER_STEPS\n",
        "BATCH_SIZE = params[\"batch_size\"]\n",
        "\n",
        "# Dataset variables\n",
        "input_columns = [\"traffic\", \"Delta\", \"DaysFromStart\", \"DayOfWeek\", \"DayOfMonth\", \"WeekOfYear\", \"Month\", \"Entity\", \"Class\", \"Entity\"]\n",
        "target_column = \"traffic\"\n",
        "entity_column = \"Entity\"\n",
        "time_column = \"date\"\n",
        "col_to_idx = {col: idx for idx, col in enumerate(input_columns)}"
      ]
    },
    {
      "cell_type": "code",
      "source": [
        "import numpy as np\n",
        "import pandas as pd\n",
        "from torch.utils.data import Dataset\n",
        "\n",
        "\n",
        "class TimeSeriesDatasetTest(Dataset):\n",
        "    \"\"\"\n",
        "    Args:\n",
        "        data (pd.DataFrame): dataframe containing raw data\n",
        "        entity_column (str): name of column containing entity data\n",
        "        time_column (str): name of column containing date data\n",
        "        target_column (str): name of column we need to predict\n",
        "        input_columns (list): list of string names of columns used as input\n",
        "        encoder_steps (int): number of known past time steps used for forecast. Equivalent to size of LSTM encoder\n",
        "        decoder_steps (int): number of input time steps used for each forecast date. Equivalent to the width N of the decoder\n",
        "    \"\"\"\n",
        "    def __init__(self,\n",
        "                 data: pd.DataFrame,\n",
        "                 entity_column: str,\n",
        "                 time_column: str,\n",
        "                 target_column: str,\n",
        "                 input_columns: list,\n",
        "                 encoder_steps: int,\n",
        "                 decoder_steps: int):\n",
        "        self.encoder_steps = encoder_steps\n",
        "\n",
        "        inputs = []\n",
        "        outputs = []\n",
        "        entity = []\n",
        "        time = []\n",
        "\n",
        "        # print(data[entity_column].unique())\n",
        "\n",
        "        for e in data[entity_column].unique():\n",
        "            entity_group = data[data[entity_column]==e]\n",
        "        #   print(f\"entity_group = {entity_group}\")\n",
        "\n",
        "            data_time_steps = len(entity_group)\n",
        "            # print(f\"data_time_steps = {data_time_steps}\")\n",
        "\n",
        "            if data_time_steps >= decoder_steps:\n",
        "                x = entity_group[input_columns].values.astype(np.float32)\n",
        "                inputs.append(np.stack([x[i:data_time_steps - (decoder_steps - 1) + i, :] for i in range(decoder_steps)], axis=1))\n",
        "\n",
        "                y = entity_group[[target_column]].values.astype(np.float32)\n",
        "                outputs.append(np.stack([y[i:data_time_steps - (decoder_steps - 1) + i, :] for i in range(decoder_steps)], axis=1))\n",
        "\n",
        "                e = entity_group[[entity_column]].values.astype(np.float32)\n",
        "                entity.append(np.stack([e[i:data_time_steps - (decoder_steps - 1) + i, :] for i in range(decoder_steps)], axis=1))\n",
        "\n",
        "                t = entity_group[[time_column]].values.astype(np.int64)\n",
        "                time.append(np.stack([t[i:data_time_steps - (decoder_steps - 1) + i, :] for i in range(decoder_steps)], axis=1))\n",
        "\n",
        "        print(f\"inputs = {inputs[0].shape}\")\n",
        "        print(f\"outputs = {outputs[0].shape}\")\n",
        "\n",
        "        self.inputs = np.concatenate(inputs, axis=0)\n",
        "        if decoder_steps > encoder_steps:\n",
        "            self.outputs = np.concatenate(outputs, axis=0)[:, encoder_steps:, :]\n",
        "        else:\n",
        "            self.outputs = np.concatenate(outputs, axis=0)\n",
        "        self.entity = np.concatenate(entity, axis=0)\n",
        "        self.time = np.concatenate(time, axis=0)\n",
        "        self.active_inputs = np.ones_like(outputs)\n",
        "\n",
        "        print(f\"self.inputs = {self.inputs[0].shape}\")\n",
        "        print(f\"self.outputs = {self.outputs[0].shape}\")\n",
        "\n",
        "        # self.sampled_data = {\n",
        "        #     \"inputs\": self.inputs,\n",
        "        #     \"outputs\": self.outputs[:, self.encoder_steps:, :],\n",
        "        #     \"active_entries\": np.ones_like(self.outputs[:, self.encoder_steps:, :]),\n",
        "        #     \"time\": self.time,\n",
        "        #     \"identifier\": self.entity\n",
        "        # }\n",
        "\n",
        "    def __getitem__(self, index):\n",
        "        s = {\n",
        "            \"inputs\": self.inputs[index],\n",
        "            \"outputs\": self.outputs[index],\n",
        "            \"active_entries\": np.ones_like(self.outputs[index]),\n",
        "            \"time\": self.time[index],\n",
        "            \"identifier\": self.entity[index],\n",
        "            \"index\": int(self.inputs[index, 0, -1])\n",
        "        }\n",
        "\n",
        "        return s\n",
        "\n",
        "    def __len__(self):\n",
        "        return self.inputs.shape[0]\n"
      ],
      "metadata": {
        "id": "z7XQ9Q5US4l-"
      },
      "execution_count": 12,
      "outputs": []
    },
    {
      "cell_type": "code",
      "execution_count": 13,
      "metadata": {
        "id": "csx0WWKEVmQ5",
        "colab": {
          "base_uri": "https://localhost:8080/"
        },
        "outputId": "a670e58c-716a-4d6a-f11c-a7b4be7a450d"
      },
      "outputs": [
        {
          "output_type": "stream",
          "name": "stdout",
          "text": [
            "inputs = (905, 192, 10)\n",
            "outputs = (905, 192, 1)\n",
            "self.inputs = (192, 10)\n",
            "self.outputs = (192, 1)\n",
            "inputs = (174, 192, 10)\n",
            "outputs = (174, 192, 1)\n",
            "self.inputs = (192, 10)\n",
            "self.outputs = (192, 1)\n"
          ]
        }
      ],
      "source": [
        "# TODO:\n",
        "# sampler = WeightedSampler(data_dir, args.dataset) # Use weighted sampler instead of random sampler\n",
        "# train_loader = DataLoader(train_set, batch_size=params.batch_size, sampler=sampler, num_workers=4)\n",
        "# test_loader = DataLoader(test_set, batch_size=params.predict_batch, sampler=RandomSampler(test_set), num_workers=4)\n",
        "\n",
        "training_data = TimeSeriesDatasetTest(train, entity_column, time_column, target_column, input_columns, ENCODER_STEPS, DECODER_STEPS)\n",
        "testing_data = TimeSeriesDatasetTest(test, entity_column, time_column, target_column, input_columns, ENCODER_STEPS, DECODER_STEPS)\n",
        "\n",
        "train_dataloader = DataLoader(training_data, batch_size=BATCH_SIZE, num_workers=2, shuffle=False)\n",
        "test_dataloader = DataLoader(testing_data, batch_size=BATCH_SIZE, num_workers=2, shuffle=False)"
      ]
    },
    {
      "cell_type": "code",
      "source": [
        "import math\n",
        "import numpy as np\n",
        "import torch\n",
        "import torch.nn as nn\n",
        "import torch.nn.functional as F\n",
        "from torch.autograd import Variable\n",
        "import logging\n",
        "\n",
        "logger = logging.getLogger(\"DeepAR.Net\")\n",
        "\n",
        "\n",
        "class DeepARTest(nn.Module):\n",
        "    def __init__(self, params):\n",
        "        \"\"\"\n",
        "        A recurrent network that predicts the future values of a time-dependent variable based on\n",
        "        past inputs and covariates.\n",
        "        \"\"\"\n",
        "        super(DeepARTest, self).__init__()\n",
        "        # self.params = params\n",
        "        self.device = params[\"device\"]\n",
        "        self.num_class = params[\"num_class\"]\n",
        "        self.embedding_dim = params[\"embedding_dim\"]\n",
        "        self.cov_dim = params[\"cov_dim\"]\n",
        "        self.lstm_hidden_dim = params[\"lstm_hidden_dim\"]\n",
        "        self.lstm_layers = params[\"lstm_layers\"]\n",
        "        self.lstm_dropout = params[\"lstm_dropout\"]\n",
        "        self.sample_times = params[\"sample_times\"]\n",
        "        self.predict_steps = params[\"predict_steps\"]\n",
        "        self.predict_start = params[\"predict_start\"]\n",
        "\n",
        "        self.embedding = nn.Embedding(self.num_class, self.embedding_dim)\n",
        "\n",
        "        self.lstm = nn.LSTM(input_size=1+self.cov_dim+self.embedding_dim,\n",
        "                            hidden_size=self.lstm_hidden_dim,\n",
        "                            num_layers=self.lstm_layers,\n",
        "                            bias=True,\n",
        "                            batch_first=False,\n",
        "                            dropout=self.lstm_dropout)\n",
        "\n",
        "        # Initialize LSTM forget gate bias to be 1 as recommanded by http://proceedings.mlr.press/v37/jozefowicz15.pdf\n",
        "        for names in self.lstm._all_weights:\n",
        "            for name in filter(lambda n: \"bias\" in n, names):\n",
        "                bias = getattr(self.lstm, name)\n",
        "                n = bias.size(0)\n",
        "                start, end = n // 4, n // 2\n",
        "                bias.data[start:end].fill_(1.)\n",
        "\n",
        "        self.relu = nn.ReLU()\n",
        "        self.distribution_mu = nn.Linear(self.lstm_hidden_dim * self.lstm_layers, 1)\n",
        "        self.distribution_presigma = nn.Linear(self.lstm_hidden_dim * self.lstm_layers, 1)\n",
        "        self.distribution_sigma = nn.Softplus()\n",
        "\n",
        "    def forward(self, x, idx, hidden, cell):\n",
        "        \"\"\"\n",
        "        Predict mu and sigma of the distribution for z_t.\n",
        "        Args:\n",
        "            x: ([1, batch_size, 1+cov_dim]): z_{t-1} + x_t, note that z_0 = 0\n",
        "            idx ([1, batch_size]): one integer denoting the time series id\n",
        "            hidden ([lstm_layers, batch_size, lstm_hidden_dim]): LSTM h from time step t-1\n",
        "            cell ([lstm_layers, batch_size, lstm_hidden_dim]): LSTM c from time step t-1\n",
        "        Returns:\n",
        "            mu ([batch_size]): estimated mean of z_t\n",
        "            sigma ([batch_size]): estimated standard deviation of z_t\n",
        "            hidden ([lstm_layers, batch_size, lstm_hidden_dim]): LSTM h from time step t\n",
        "            cell ([lstm_layers, batch_size, lstm_hidden_dim]): LSTM c from time step t\n",
        "        \"\"\"\n",
        "        onehot_embed = self.embedding(idx) # TODO: Is it possible to do this only once per window instead of per step?\n",
        "        # print(f\"*** x = {x.shape}\")\n",
        "        # print(f\"*** onehot_embed = {onehot_embed.shape}\")\n",
        "        lstm_input = torch.cat((x, onehot_embed), dim=2)\n",
        "        # print(f\"*** lstm_input = {lstm_input.shape}\")\n",
        "        # print(f\"*** hidden = {hidden.shape}\")\n",
        "        # print(f\"*** cell = {cell.shape}\")\n",
        "        output, (hidden, cell) = self.lstm(lstm_input, (hidden, cell))\n",
        "        # Sse h from all three layers to calculate mu and sigma\n",
        "        hidden_permute = hidden.permute(1, 2, 0).contiguous().view(hidden.shape[1], -1)\n",
        "        pre_sigma = self.distribution_presigma(hidden_permute)\n",
        "        mu = self.distribution_mu(hidden_permute)\n",
        "        sigma = self.distribution_sigma(pre_sigma)  # softplus to make sure standard deviation is positive\n",
        "        return torch.squeeze(mu), torch.squeeze(sigma), hidden, cell\n",
        "\n",
        "    def init_hidden(self, input_size):\n",
        "        return torch.zeros(self.lstm_layers, input_size, self.lstm_hidden_dim, device=self.device)\n",
        "\n",
        "    def init_cell(self, input_size):\n",
        "        return torch.zeros(self.lstm_layers, input_size, self.lstm_hidden_dim, device=self.device)\n",
        "\n",
        "    def test(self, x, v_batch, id_batch, hidden, cell, sampling=False):\n",
        "        batch_size = x.shape[1]\n",
        "        if sampling:\n",
        "            samples = torch.zeros(self.sample_times, batch_size, self.predict_steps,\n",
        "                                       device=self.device)\n",
        "            for j in range(self.sample_times):\n",
        "                decoder_hidden = hidden\n",
        "                decoder_cell = cell\n",
        "                for t in range(self.predict_steps):\n",
        "                    mu_de, sigma_de, decoder_hidden, decoder_cell = self(x[self.predict_start + t].unsqueeze(0),\n",
        "                                                                         id_batch, decoder_hidden, decoder_cell)\n",
        "                    gaussian = torch.distributions.normal.Normal(mu_de, sigma_de)\n",
        "                    pred = gaussian.sample()  # not scaled\n",
        "                    samples[j, :, t] = pred * v_batch[:, 0] + v_batch[:, 1]\n",
        "                    if t < (self.ppredict_steps - 1):\n",
        "                        x[self.predict_start + t + 1, :, 0] = pred\n",
        "\n",
        "            sample_mu = torch.median(samples, dim=0)[0]\n",
        "            sample_sigma = samples.std(dim=0)\n",
        "            return samples, sample_mu, sample_sigma\n",
        "\n",
        "        else:\n",
        "            decoder_hidden = hidden\n",
        "            decoder_cell = cell\n",
        "            sample_mu = torch.zeros(batch_size, self.predict_steps, device=self.device)\n",
        "            sample_sigma = torch.zeros(batch_size, self.predict_steps, device=self.device)\n",
        "            for t in range(self.predict_steps):\n",
        "                mu_de, sigma_de, decoder_hidden, decoder_cell = self(x[self.predict_start + t].unsqueeze(0),\n",
        "                                                                     id_batch, decoder_hidden, decoder_cell)\n",
        "                sample_mu[:, t] = mu_de * v_batch[:, 0] + v_batch[:, 1]\n",
        "                sample_sigma[:, t] = sigma_de * v_batch[:, 0]\n",
        "                if t < (self.predict_steps - 1):\n",
        "                    x[self.predict_start + t + 1, :, 0] = mu_de\n",
        "            return sample_mu, sample_sigma\n",
        "\n",
        "\n",
        "def loss_fn(mu: Variable, sigma: Variable, labels: Variable):\n",
        "    \"\"\"\n",
        "    Compute using gaussian the log-likehood which needs to be maximized. Ignore time steps where labels are missing.\n",
        "    Args:\n",
        "        mu: (Variable) dimension [batch_size] - estimated mean at time step t\n",
        "        sigma: (Variable) dimension [batch_size] - estimated standard deviation at time step t\n",
        "        labels: (Variable) dimension [batch_size] z_t\n",
        "    Returns:\n",
        "        loss: (Variable) average log-likelihood loss across the batch\n",
        "    \"\"\"\n",
        "    zero_index = (labels != 0)\n",
        "    distribution = torch.distributions.normal.Normal(mu[zero_index], sigma[zero_index])\n",
        "    likelihood = distribution.log_prob(labels[zero_index])\n",
        "    return -torch.mean(likelihood)\n",
        "\n",
        "\n",
        "# If relative is set to True, metrics are not normalized by the scale of labels\n",
        "def accuracy_ND(mu: torch.Tensor, labels: torch.Tensor, relative = False):\n",
        "    zero_index = (labels != 0)\n",
        "    if relative:\n",
        "        diff = torch.mean(torch.abs(mu[zero_index] - labels[zero_index])).item()\n",
        "        return [diff, 1]\n",
        "    else:\n",
        "        diff = torch.sum(torch.abs(mu[zero_index] - labels[zero_index])).item()\n",
        "        summation = torch.sum(torch.abs(labels[zero_index])).item()\n",
        "        return [diff, summation]\n",
        "\n",
        "\n",
        "def accuracy_RMSE(mu: torch.Tensor, labels: torch.Tensor, relative = False):\n",
        "    zero_index = (labels != 0)\n",
        "    diff = torch.sum(torch.mul((mu[zero_index] - labels[zero_index]), (mu[zero_index] - labels[zero_index]))).item()\n",
        "    if relative:\n",
        "        return [diff, torch.sum(zero_index).item(), torch.sum(zero_index).item()]\n",
        "    else:\n",
        "        summation = torch.sum(torch.abs(labels[zero_index])).item()\n",
        "        # if summation == 0:\n",
        "        #     logger.error(\"summation denominator error! \")\n",
        "        return [diff, summation, torch.sum(zero_index).item()]\n",
        "\n",
        "\n",
        "def accuracy_ROU(rou: float, samples: torch.Tensor, labels: torch.Tensor, relative = False):\n",
        "    numerator = 0\n",
        "    denominator = 0\n",
        "    pred_samples = samples.shape[0]\n",
        "    for t in range(labels.shape[1]):\n",
        "        zero_index = (labels[:, t] != 0)\n",
        "        if zero_index.numel() > 0:\n",
        "            rou_th = math.ceil(pred_samples * (1 - rou))\n",
        "            rou_pred = torch.topk(samples[:, zero_index, t], dim=0, k=rou_th)[0][-1, :]\n",
        "            abs_diff = labels[:, t][zero_index] - rou_pred\n",
        "            numerator += 2 * (torch.sum(rou * abs_diff[labels[:, t][zero_index] > rou_pred]) - torch.sum(\n",
        "                (1 - rou) * abs_diff[labels[:, t][zero_index] <= rou_pred])).item()\n",
        "            denominator += torch.sum(labels[:, t][zero_index]).item()\n",
        "    if relative:\n",
        "        return [numerator, torch.sum(labels != 0).item()]\n",
        "    else:\n",
        "        return [numerator, denominator]\n",
        "\n",
        "\n",
        "def accuracy_ND_(mu: torch.Tensor, labels: torch.Tensor, relative = False):\n",
        "    mu = mu.cpu().detach().numpy()\n",
        "    labels = labels.cpu().detach().numpy()\n",
        "\n",
        "    mu[labels == 0] = 0.\n",
        "\n",
        "    diff = np.sum(np.abs(mu - labels), axis=1)\n",
        "    if relative:\n",
        "        summation = np.sum((labels != 0), axis=1)\n",
        "        mask = (summation == 0)\n",
        "        summation[mask] = 1\n",
        "        result = diff / summation\n",
        "        result[mask] = -1\n",
        "        return result\n",
        "    else:\n",
        "        summation = np.sum(np.abs(labels), axis=1)\n",
        "        mask = (summation == 0)\n",
        "        summation[mask] = 1\n",
        "        result = diff / summation\n",
        "        result[mask] = -1\n",
        "        return result\n",
        "\n",
        "\n",
        "def accuracy_RMSE_(mu: torch.Tensor, labels: torch.Tensor, relative = False):\n",
        "    mu = mu.cpu().detach().numpy()\n",
        "    labels = labels.cpu().detach().numpy()\n",
        "\n",
        "    mask = labels == 0\n",
        "    mu[mask] = 0.\n",
        "\n",
        "    diff = np.sum((mu - labels) ** 2, axis=1)\n",
        "    summation = np.sum(np.abs(labels), axis=1)\n",
        "    mask2 = (summation == 0)\n",
        "    if relative:\n",
        "        div = np.sum(~mask, axis=1)\n",
        "        div[mask2] = 1\n",
        "        result = np.sqrt(diff / div)\n",
        "        result[mask2] = -1\n",
        "        return result\n",
        "    else:\n",
        "        summation[mask2] = 1\n",
        "        result = (np.sqrt(diff) / summation) * np.sqrt(np.sum(~mask, axis=1))\n",
        "        result[mask2] = -1\n",
        "        return result\n",
        "\n",
        "\n",
        "def accuracy_ROU_(rou: float, samples: torch.Tensor, labels: torch.Tensor, relative = False):\n",
        "    samples = samples.cpu().detach().numpy()\n",
        "    labels = labels.cpu().detach().numpy()\n",
        "\n",
        "    mask = labels == 0\n",
        "    samples[:, mask] = 0.\n",
        "\n",
        "    pred_samples = samples.shape[0]\n",
        "    rou_th = math.floor(pred_samples * rou)\n",
        "\n",
        "    samples = np.sort(samples, axis=0)\n",
        "    rou_pred = samples[rou_th]\n",
        "\n",
        "    abs_diff = np.abs(labels - rou_pred)\n",
        "    abs_diff_1 = abs_diff.copy()\n",
        "    abs_diff_1[labels < rou_pred] = 0.\n",
        "    abs_diff_2 = abs_diff.copy()\n",
        "    abs_diff_2[labels >= rou_pred] = 0.\n",
        "\n",
        "    numerator = 2 * (rou * np.sum(abs_diff_1, axis=1) + (1 - rou) * np.sum(abs_diff_2, axis=1))\n",
        "    denominator = np.sum(labels, axis=1)\n",
        "\n",
        "    mask2 = (denominator == 0)\n",
        "    denominator[mask2] = 1\n",
        "    result = numerator / denominator\n",
        "    result[mask2] = -1\n",
        "    return result\n"
      ],
      "metadata": {
        "id": "t_hfv51Hj5uQ"
      },
      "execution_count": 14,
      "outputs": []
    },
    {
      "cell_type": "code",
      "execution_count": 15,
      "metadata": {
        "id": "_SULy_YsVo5c"
      },
      "outputs": [],
      "source": [
        "model = DeepARTest(params=params)\n",
        "model.to(DEVICE)\n",
        "\n",
        "optimizer = optim.Adam(model.parameters(), lr=params[\"learning_rate\"])\n",
        "\n",
        "# Fetch loss function\n",
        "loss_fn = net.loss_fn"
      ]
    },
    {
      "cell_type": "code",
      "source": [
        "def train_(model: nn.Module,\n",
        "          optimizer: optim,\n",
        "          loss_fn,\n",
        "          train_loader: DataLoader,\n",
        "          test_loader: DataLoader,\n",
        "          params: dict,\n",
        "          epoch: int) -> float:\n",
        "    '''Train the model on one epoch by batches.\n",
        "    Args:\n",
        "        model: (torch.nn.Module) the neural network\n",
        "        optimizer: (torch.optim) optimizer for parameters of model\n",
        "        loss_fn: a function that takes outputs and labels per timestep, and then computes the loss for the batch\n",
        "        train_loader: load train data and labels\n",
        "        test_loader: load test data and labels\n",
        "        params: (Params) hyperparameters\n",
        "        epoch: (int) the current training epoch\n",
        "    '''\n",
        "    model.train()\n",
        "    loss_epoch = np.zeros(len(train_loader))\n",
        "    # Train_loader:\n",
        "    # train_batch ([batch_size, train_window, 1+cov_dim]): z_{0:T-1} + x_{1:T}, note that z_0 = 0;\n",
        "    # idx ([batch_size]): one integer denoting the time series id;\n",
        "    # labels_batch ([batch_size, train_window]): z_{1:T}.\n",
        "\n",
        "    # for i, (train_batch, idx, labels_batch) in enumerate(tqdm(train_loader)):\n",
        "    for i, batch in enumerate(tqdm(train_loader)):\n",
        "        train_batch = batch[\"inputs\"][:, :ENCODER_STEPS, :].float().to(DEVICE)\n",
        "        # labels_batch = batch[\"outputs\"][:,:,0].flatten().float().to(DEVICE)\n",
        "        # labels_batch = batch[\"outputs\"][:,:,0].float().to(DEVICE)\n",
        "        labels_batch = batch[\"outputs\"][:, :ENCODER_STEPS, 0].float().to(DEVICE)\n",
        "\n",
        "        # print(f'\\n*** (1) train_batch: {train_batch.shape}')\n",
        "        # print(f'*** (1) labels_batch: {labels_batch.shape}')\n",
        "        # print(f'*** (1) idx: {batch[\"index\"].shape}')\n",
        "\n",
        "        idx =  batch[\"index\"].unsqueeze(0).to(DEVICE)\n",
        "\n",
        "        optimizer.zero_grad()\n",
        "        batch_size = train_batch.shape[0]\n",
        "\n",
        "        train_batch = train_batch.permute(1, 0, 2).to(torch.float32).to(params[\"device\"])  # not scaled\n",
        "        labels_batch = labels_batch.permute(1, 0).to(torch.float32).to(params[\"device\"])  # not scaled\n",
        "        # idx = idx.unsqueeze(0).to(params[\"device\"])\n",
        "\n",
        "        loss = torch.zeros(1, device=params[\"device\"])\n",
        "        hidden = model.init_hidden(batch_size)\n",
        "        cell = model.init_cell(batch_size)\n",
        "\n",
        "        # print(f\"***** (2) train_batch: {train_batch.shape}\")\n",
        "        # print(f\"***** (2) idx: {idx.shape}\")\n",
        "        # print(f\"***** (2) labels_batch: {labels_batch.shape}\")\n",
        "\n",
        "        # print(f\"*** hidden: {hidden.shape}\")\n",
        "        # print(f\"*** cell: {cell.shape}\")\n",
        "        # print(f\"*** idx: {idx.shape}\")\n",
        "\n",
        "        for t in range(params[\"train_window\"]):\n",
        "            # if z_t is missing, replace it by output mu from the last time step\n",
        "            zero_index = (train_batch[t, :, 0] == 0)\n",
        "            if t > 0 and torch.sum(zero_index) > 0:\n",
        "                train_batch[t, zero_index, 0] = mu[zero_index]\n",
        "            mu, sigma, hidden, cell = model(train_batch[t].unsqueeze_(0).clone(), idx, hidden, cell)\n",
        "            # print(f\"*** labels_batch[t]: {t}, {labels_batch[t].shape}\")\n",
        "            loss += loss_fn(mu, sigma, labels_batch[t])\n",
        "\n",
        "        loss.backward()\n",
        "        optimizer.step()\n",
        "        loss = loss.item() / params[\"train_window\"]  # loss per timestep\n",
        "        loss_epoch[i] = loss\n",
        "        if i % 1000 == 0:\n",
        "            # test_metrics = evaluate(model, loss_fn, test_loader, params, epoch, sample=args.sampling)\n",
        "            # model.train()\n",
        "            print(f'train_loss: {loss}')\n",
        "        if i == 0:\n",
        "            print(f'train_loss: {loss}')\n",
        "    return loss_epoch"
      ],
      "metadata": {
        "id": "3hjJxSXp7wCw"
      },
      "execution_count": 16,
      "outputs": []
    },
    {
      "cell_type": "code",
      "source": [
        "best_test_ND = float(\"inf\")\n",
        "train_len = len(train_dataloader)\n",
        "num_epochs = params[\"num_epochs\"]\n",
        "ND_summary = np.zeros(num_epochs)\n",
        "loss_summary = np.zeros((train_len * num_epochs))\n",
        "for epoch in range(num_epochs):\n",
        "    print(\"Epoch {}/{}\".format(epoch + 1, num_epochs))\n",
        "    loss_summary[epoch * train_len:(epoch + 1) * train_len] = train_(model, optimizer, loss_fn, train_dataloader,\n",
        "                                                                    test_dataloader, params, epoch)\n",
        "    # test_metrics = evaluate(model, loss_fn, test_loader, params, epoch, sample=args.sampling)\n",
        "    # ND_summary[epoch] = test_metrics[\"ND\"]\n",
        "    # is_best = ND_summary[epoch] <= best_test_ND"
      ],
      "metadata": {
        "colab": {
          "base_uri": "https://localhost:8080/",
          "height": 563
        },
        "id": "Vsc7aBGy7bn2",
        "outputId": "822765dc-9b67-425e-b6cc-b6437f6f0d0b"
      },
      "execution_count": 17,
      "outputs": [
        {
          "output_type": "stream",
          "name": "stdout",
          "text": [
            "Epoch 1/20\n"
          ]
        },
        {
          "output_type": "stream",
          "name": "stderr",
          "text": [
            "\r  0%|          | 0/227 [00:00<?, ?it/s]/usr/lib/python3.10/multiprocessing/popen_fork.py:66: RuntimeWarning: os.fork() was called. os.fork() is incompatible with multithreaded code, and JAX is multithreaded, so this will likely lead to a deadlock.\n",
            "  self.pid = os.fork()\n",
            "  0%|          | 1/227 [00:02<08:56,  2.37s/it]"
          ]
        },
        {
          "output_type": "stream",
          "name": "stdout",
          "text": [
            "train_loss: 0.9470055898030599\n",
            "train_loss: 0.9470055898030599\n"
          ]
        },
        {
          "output_type": "stream",
          "name": "stderr",
          "text": [
            "100%|██████████| 227/227 [04:29<00:00,  1.19s/it]\n"
          ]
        },
        {
          "output_type": "stream",
          "name": "stdout",
          "text": [
            "Epoch 2/20\n"
          ]
        },
        {
          "output_type": "stream",
          "name": "stderr",
          "text": [
            "  0%|          | 1/227 [00:01<05:06,  1.36s/it]"
          ]
        },
        {
          "output_type": "stream",
          "name": "stdout",
          "text": [
            "train_loss: 1.1180676619211833\n",
            "train_loss: 1.1180676619211833\n"
          ]
        },
        {
          "output_type": "stream",
          "name": "stderr",
          "text": [
            " 22%|██▏       | 51/227 [00:55<03:12,  1.09s/it]\n"
          ]
        },
        {
          "output_type": "error",
          "ename": "KeyboardInterrupt",
          "evalue": "",
          "traceback": [
            "\u001b[0;31m---------------------------------------------------------------------------\u001b[0m",
            "\u001b[0;31mKeyboardInterrupt\u001b[0m                         Traceback (most recent call last)",
            "\u001b[0;32m<ipython-input-17-c676faa323bd>\u001b[0m in \u001b[0;36m<cell line: 6>\u001b[0;34m()\u001b[0m\n\u001b[1;32m      6\u001b[0m \u001b[0;32mfor\u001b[0m \u001b[0mepoch\u001b[0m \u001b[0;32min\u001b[0m \u001b[0mrange\u001b[0m\u001b[0;34m(\u001b[0m\u001b[0mnum_epochs\u001b[0m\u001b[0;34m)\u001b[0m\u001b[0;34m:\u001b[0m\u001b[0;34m\u001b[0m\u001b[0;34m\u001b[0m\u001b[0m\n\u001b[1;32m      7\u001b[0m     \u001b[0mprint\u001b[0m\u001b[0;34m(\u001b[0m\u001b[0;34m\"Epoch {}/{}\"\u001b[0m\u001b[0;34m.\u001b[0m\u001b[0mformat\u001b[0m\u001b[0;34m(\u001b[0m\u001b[0mepoch\u001b[0m \u001b[0;34m+\u001b[0m \u001b[0;36m1\u001b[0m\u001b[0;34m,\u001b[0m \u001b[0mnum_epochs\u001b[0m\u001b[0;34m)\u001b[0m\u001b[0;34m)\u001b[0m\u001b[0;34m\u001b[0m\u001b[0;34m\u001b[0m\u001b[0m\n\u001b[0;32m----> 8\u001b[0;31m     loss_summary[epoch * train_len:(epoch + 1) * train_len] = train_(model, optimizer, loss_fn, train_dataloader,\n\u001b[0m\u001b[1;32m      9\u001b[0m                                                                     test_dataloader, params, epoch)\n\u001b[1;32m     10\u001b[0m     \u001b[0;31m# test_metrics = evaluate(model, loss_fn, test_loader, params, epoch, sample=args.sampling)\u001b[0m\u001b[0;34m\u001b[0m\u001b[0;34m\u001b[0m\u001b[0m\n",
            "\u001b[0;32m<ipython-input-16-f93f5450a2ee>\u001b[0m in \u001b[0;36mtrain_\u001b[0;34m(model, optimizer, loss_fn, train_loader, test_loader, params, epoch)\u001b[0m\n\u001b[1;32m     60\u001b[0m             \u001b[0;32mif\u001b[0m \u001b[0mt\u001b[0m \u001b[0;34m>\u001b[0m \u001b[0;36m0\u001b[0m \u001b[0;32mand\u001b[0m \u001b[0mtorch\u001b[0m\u001b[0;34m.\u001b[0m\u001b[0msum\u001b[0m\u001b[0;34m(\u001b[0m\u001b[0mzero_index\u001b[0m\u001b[0;34m)\u001b[0m \u001b[0;34m>\u001b[0m \u001b[0;36m0\u001b[0m\u001b[0;34m:\u001b[0m\u001b[0;34m\u001b[0m\u001b[0;34m\u001b[0m\u001b[0m\n\u001b[1;32m     61\u001b[0m                 \u001b[0mtrain_batch\u001b[0m\u001b[0;34m[\u001b[0m\u001b[0mt\u001b[0m\u001b[0;34m,\u001b[0m \u001b[0mzero_index\u001b[0m\u001b[0;34m,\u001b[0m \u001b[0;36m0\u001b[0m\u001b[0;34m]\u001b[0m \u001b[0;34m=\u001b[0m \u001b[0mmu\u001b[0m\u001b[0;34m[\u001b[0m\u001b[0mzero_index\u001b[0m\u001b[0;34m]\u001b[0m\u001b[0;34m\u001b[0m\u001b[0;34m\u001b[0m\u001b[0m\n\u001b[0;32m---> 62\u001b[0;31m             \u001b[0mmu\u001b[0m\u001b[0;34m,\u001b[0m \u001b[0msigma\u001b[0m\u001b[0;34m,\u001b[0m \u001b[0mhidden\u001b[0m\u001b[0;34m,\u001b[0m \u001b[0mcell\u001b[0m \u001b[0;34m=\u001b[0m \u001b[0mmodel\u001b[0m\u001b[0;34m(\u001b[0m\u001b[0mtrain_batch\u001b[0m\u001b[0;34m[\u001b[0m\u001b[0mt\u001b[0m\u001b[0;34m]\u001b[0m\u001b[0;34m.\u001b[0m\u001b[0munsqueeze_\u001b[0m\u001b[0;34m(\u001b[0m\u001b[0;36m0\u001b[0m\u001b[0;34m)\u001b[0m\u001b[0;34m.\u001b[0m\u001b[0mclone\u001b[0m\u001b[0;34m(\u001b[0m\u001b[0;34m)\u001b[0m\u001b[0;34m,\u001b[0m \u001b[0midx\u001b[0m\u001b[0;34m,\u001b[0m \u001b[0mhidden\u001b[0m\u001b[0;34m,\u001b[0m \u001b[0mcell\u001b[0m\u001b[0;34m)\u001b[0m\u001b[0;34m\u001b[0m\u001b[0;34m\u001b[0m\u001b[0m\n\u001b[0m\u001b[1;32m     63\u001b[0m             \u001b[0;31m# print(f\"*** labels_batch[t]: {t}, {labels_batch[t].shape}\")\u001b[0m\u001b[0;34m\u001b[0m\u001b[0;34m\u001b[0m\u001b[0m\n\u001b[1;32m     64\u001b[0m             \u001b[0mloss\u001b[0m \u001b[0;34m+=\u001b[0m \u001b[0mloss_fn\u001b[0m\u001b[0;34m(\u001b[0m\u001b[0mmu\u001b[0m\u001b[0;34m,\u001b[0m \u001b[0msigma\u001b[0m\u001b[0;34m,\u001b[0m \u001b[0mlabels_batch\u001b[0m\u001b[0;34m[\u001b[0m\u001b[0mt\u001b[0m\u001b[0;34m]\u001b[0m\u001b[0;34m)\u001b[0m\u001b[0;34m\u001b[0m\u001b[0;34m\u001b[0m\u001b[0m\n",
            "\u001b[0;32m/usr/local/lib/python3.10/dist-packages/torch/nn/modules/module.py\u001b[0m in \u001b[0;36m_wrapped_call_impl\u001b[0;34m(self, *args, **kwargs)\u001b[0m\n\u001b[1;32m   1509\u001b[0m             \u001b[0;32mreturn\u001b[0m \u001b[0mself\u001b[0m\u001b[0;34m.\u001b[0m\u001b[0m_compiled_call_impl\u001b[0m\u001b[0;34m(\u001b[0m\u001b[0;34m*\u001b[0m\u001b[0margs\u001b[0m\u001b[0;34m,\u001b[0m \u001b[0;34m**\u001b[0m\u001b[0mkwargs\u001b[0m\u001b[0;34m)\u001b[0m  \u001b[0;31m# type: ignore[misc]\u001b[0m\u001b[0;34m\u001b[0m\u001b[0;34m\u001b[0m\u001b[0m\n\u001b[1;32m   1510\u001b[0m         \u001b[0;32melse\u001b[0m\u001b[0;34m:\u001b[0m\u001b[0;34m\u001b[0m\u001b[0;34m\u001b[0m\u001b[0m\n\u001b[0;32m-> 1511\u001b[0;31m             \u001b[0;32mreturn\u001b[0m \u001b[0mself\u001b[0m\u001b[0;34m.\u001b[0m\u001b[0m_call_impl\u001b[0m\u001b[0;34m(\u001b[0m\u001b[0;34m*\u001b[0m\u001b[0margs\u001b[0m\u001b[0;34m,\u001b[0m \u001b[0;34m**\u001b[0m\u001b[0mkwargs\u001b[0m\u001b[0;34m)\u001b[0m\u001b[0;34m\u001b[0m\u001b[0;34m\u001b[0m\u001b[0m\n\u001b[0m\u001b[1;32m   1512\u001b[0m \u001b[0;34m\u001b[0m\u001b[0m\n\u001b[1;32m   1513\u001b[0m     \u001b[0;32mdef\u001b[0m \u001b[0m_call_impl\u001b[0m\u001b[0;34m(\u001b[0m\u001b[0mself\u001b[0m\u001b[0;34m,\u001b[0m \u001b[0;34m*\u001b[0m\u001b[0margs\u001b[0m\u001b[0;34m,\u001b[0m \u001b[0;34m**\u001b[0m\u001b[0mkwargs\u001b[0m\u001b[0;34m)\u001b[0m\u001b[0;34m:\u001b[0m\u001b[0;34m\u001b[0m\u001b[0;34m\u001b[0m\u001b[0m\n",
            "\u001b[0;32m/usr/local/lib/python3.10/dist-packages/torch/nn/modules/module.py\u001b[0m in \u001b[0;36m_call_impl\u001b[0;34m(self, *args, **kwargs)\u001b[0m\n\u001b[1;32m   1518\u001b[0m                 \u001b[0;32mor\u001b[0m \u001b[0m_global_backward_pre_hooks\u001b[0m \u001b[0;32mor\u001b[0m \u001b[0m_global_backward_hooks\u001b[0m\u001b[0;34m\u001b[0m\u001b[0;34m\u001b[0m\u001b[0m\n\u001b[1;32m   1519\u001b[0m                 or _global_forward_hooks or _global_forward_pre_hooks):\n\u001b[0;32m-> 1520\u001b[0;31m             \u001b[0;32mreturn\u001b[0m \u001b[0mforward_call\u001b[0m\u001b[0;34m(\u001b[0m\u001b[0;34m*\u001b[0m\u001b[0margs\u001b[0m\u001b[0;34m,\u001b[0m \u001b[0;34m**\u001b[0m\u001b[0mkwargs\u001b[0m\u001b[0;34m)\u001b[0m\u001b[0;34m\u001b[0m\u001b[0;34m\u001b[0m\u001b[0m\n\u001b[0m\u001b[1;32m   1521\u001b[0m \u001b[0;34m\u001b[0m\u001b[0m\n\u001b[1;32m   1522\u001b[0m         \u001b[0;32mtry\u001b[0m\u001b[0;34m:\u001b[0m\u001b[0;34m\u001b[0m\u001b[0;34m\u001b[0m\u001b[0m\n",
            "\u001b[0;32m<ipython-input-14-ddfdedec5b12>\u001b[0m in \u001b[0;36mforward\u001b[0;34m(self, x, idx, hidden, cell)\u001b[0m\n\u001b[1;32m     65\u001b[0m             \u001b[0mcell\u001b[0m \u001b[0;34m(\u001b[0m\u001b[0;34m[\u001b[0m\u001b[0mlstm_layers\u001b[0m\u001b[0;34m,\u001b[0m \u001b[0mbatch_size\u001b[0m\u001b[0;34m,\u001b[0m \u001b[0mlstm_hidden_dim\u001b[0m\u001b[0;34m]\u001b[0m\u001b[0;34m)\u001b[0m\u001b[0;34m:\u001b[0m \u001b[0mLSTM\u001b[0m \u001b[0mc\u001b[0m \u001b[0;32mfrom\u001b[0m \u001b[0mtime\u001b[0m \u001b[0mstep\u001b[0m \u001b[0mt\u001b[0m\u001b[0;34m\u001b[0m\u001b[0;34m\u001b[0m\u001b[0m\n\u001b[1;32m     66\u001b[0m         \"\"\"\n\u001b[0;32m---> 67\u001b[0;31m         \u001b[0monehot_embed\u001b[0m \u001b[0;34m=\u001b[0m \u001b[0mself\u001b[0m\u001b[0;34m.\u001b[0m\u001b[0membedding\u001b[0m\u001b[0;34m(\u001b[0m\u001b[0midx\u001b[0m\u001b[0;34m)\u001b[0m \u001b[0;31m# TODO: Is it possible to do this only once per window instead of per step?\u001b[0m\u001b[0;34m\u001b[0m\u001b[0;34m\u001b[0m\u001b[0m\n\u001b[0m\u001b[1;32m     68\u001b[0m         \u001b[0;31m# print(f\"*** x = {x.shape}\")\u001b[0m\u001b[0;34m\u001b[0m\u001b[0;34m\u001b[0m\u001b[0m\n\u001b[1;32m     69\u001b[0m         \u001b[0;31m# print(f\"*** onehot_embed = {onehot_embed.shape}\")\u001b[0m\u001b[0;34m\u001b[0m\u001b[0;34m\u001b[0m\u001b[0m\n",
            "\u001b[0;32m/usr/local/lib/python3.10/dist-packages/torch/nn/modules/module.py\u001b[0m in \u001b[0;36m__getattr__\u001b[0;34m(self, name)\u001b[0m\n\u001b[1;32m   1676\u001b[0m         \u001b[0;32mif\u001b[0m \u001b[0;34m'_parameters'\u001b[0m \u001b[0;32min\u001b[0m \u001b[0mself\u001b[0m\u001b[0;34m.\u001b[0m\u001b[0m__dict__\u001b[0m\u001b[0;34m:\u001b[0m\u001b[0;34m\u001b[0m\u001b[0;34m\u001b[0m\u001b[0m\n\u001b[1;32m   1677\u001b[0m             \u001b[0m_parameters\u001b[0m \u001b[0;34m=\u001b[0m \u001b[0mself\u001b[0m\u001b[0;34m.\u001b[0m\u001b[0m__dict__\u001b[0m\u001b[0;34m[\u001b[0m\u001b[0;34m'_parameters'\u001b[0m\u001b[0;34m]\u001b[0m\u001b[0;34m\u001b[0m\u001b[0;34m\u001b[0m\u001b[0m\n\u001b[0;32m-> 1678\u001b[0;31m             \u001b[0;32mif\u001b[0m \u001b[0mname\u001b[0m \u001b[0;32min\u001b[0m \u001b[0m_parameters\u001b[0m\u001b[0;34m:\u001b[0m\u001b[0;34m\u001b[0m\u001b[0;34m\u001b[0m\u001b[0m\n\u001b[0m\u001b[1;32m   1679\u001b[0m                 \u001b[0;32mreturn\u001b[0m \u001b[0m_parameters\u001b[0m\u001b[0;34m[\u001b[0m\u001b[0mname\u001b[0m\u001b[0;34m]\u001b[0m\u001b[0;34m\u001b[0m\u001b[0;34m\u001b[0m\u001b[0m\n\u001b[1;32m   1680\u001b[0m         \u001b[0;32mif\u001b[0m \u001b[0;34m'_buffers'\u001b[0m \u001b[0;32min\u001b[0m \u001b[0mself\u001b[0m\u001b[0;34m.\u001b[0m\u001b[0m__dict__\u001b[0m\u001b[0;34m:\u001b[0m\u001b[0;34m\u001b[0m\u001b[0;34m\u001b[0m\u001b[0m\n",
            "\u001b[0;31mKeyboardInterrupt\u001b[0m: "
          ]
        }
      ]
    }
  ],
  "metadata": {
    "accelerator": "GPU",
    "colab": {
      "gpuType": "T4",
      "provenance": [],
      "toc_visible": true,
      "authorship_tag": "ABX9TyOEltOkxBuOF7HPnUbZXnKG",
      "include_colab_link": true
    },
    "kernelspec": {
      "display_name": "Python 3",
      "name": "python3"
    },
    "language_info": {
      "name": "python"
    }
  },
  "nbformat": 4,
  "nbformat_minor": 0
}